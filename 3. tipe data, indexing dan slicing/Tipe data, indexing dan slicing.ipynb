{
 "cells": [
  {
   "cell_type": "markdown",
   "id": "071efb87",
   "metadata": {},
   "source": [
    "## tipe data number"
   ]
  },
  {
   "cell_type": "code",
   "execution_count": 4,
   "id": "653d68a4",
   "metadata": {},
   "outputs": [],
   "source": [
    "a = 2*3"
   ]
  },
  {
   "cell_type": "code",
   "execution_count": 5,
   "id": "7a619a1a",
   "metadata": {},
   "outputs": [
    {
     "name": "stdout",
     "output_type": "stream",
     "text": [
      "6\n"
     ]
    }
   ],
   "source": [
    "print(a)"
   ]
  },
  {
   "cell_type": "code",
   "execution_count": 6,
   "id": "14b3ff34",
   "metadata": {},
   "outputs": [
    {
     "data": {
      "text/plain": [
       "int"
      ]
     },
     "execution_count": 6,
     "metadata": {},
     "output_type": "execute_result"
    }
   ],
   "source": [
    "type(a)"
   ]
  },
  {
   "cell_type": "code",
   "execution_count": 7,
   "id": "5dab3aa5",
   "metadata": {},
   "outputs": [
    {
     "name": "stdout",
     "output_type": "stream",
     "text": [
      "0.6000000000000001 <class 'float'>\n"
     ]
    }
   ],
   "source": [
    "b = a*0.1\n",
    "type_data = type(b)\n",
    "print(b, type_data)\n"
   ]
  },
  {
   "cell_type": "code",
   "execution_count": 8,
   "id": "b634f9bc",
   "metadata": {
    "scrolled": true
   },
   "outputs": [
    {
     "data": {
      "text/plain": [
       "float"
      ]
     },
     "execution_count": 8,
     "metadata": {},
     "output_type": "execute_result"
    }
   ],
   "source": [
    "type(b)"
   ]
  },
  {
   "cell_type": "markdown",
   "id": "c7ec9ea4",
   "metadata": {},
   "source": [
    "## Indexing"
   ]
  },
  {
   "cell_type": "code",
   "execution_count": 9,
   "id": "bc32a0d4",
   "metadata": {},
   "outputs": [
    {
     "name": "stdout",
     "output_type": "stream",
     "text": [
      "['ikan', 'ayam', 'bebek']\n"
     ]
    }
   ],
   "source": [
    "item_saya = ['ikan', 'ayam', 'bebek']\n",
    "print(item_saya)"
   ]
  },
  {
   "cell_type": "code",
   "execution_count": 10,
   "id": "39630441",
   "metadata": {},
   "outputs": [
    {
     "data": {
      "text/plain": [
       "['ikan']"
      ]
     },
     "execution_count": 10,
     "metadata": {},
     "output_type": "execute_result"
    }
   ],
   "source": [
    "item_saya[:1]"
   ]
  },
  {
   "cell_type": "code",
   "execution_count": 16,
   "id": "73d825b8",
   "metadata": {},
   "outputs": [
    {
     "data": {
      "text/plain": [
       "['ayam', 'bebek']"
      ]
     },
     "execution_count": 16,
     "metadata": {},
     "output_type": "execute_result"
    }
   ],
   "source": [
    "item_saya[1:]"
   ]
  },
  {
   "cell_type": "markdown",
   "id": "3003b84a",
   "metadata": {},
   "source": [
    "##  Slicing"
   ]
  },
  {
   "cell_type": "code",
   "execution_count": 17,
   "id": "426c2d29",
   "metadata": {},
   "outputs": [
    {
     "data": {
      "text/plain": [
       "'Belajar Python itu mudah'"
      ]
     },
     "execution_count": 17,
     "metadata": {},
     "output_type": "execute_result"
    }
   ],
   "source": [
    "\"Belajar Python itu mudah\""
   ]
  },
  {
   "cell_type": "code",
   "execution_count": 18,
   "id": "adb9e9eb",
   "metadata": {},
   "outputs": [
    {
     "data": {
      "text/plain": [
       "'l'"
      ]
     },
     "execution_count": 18,
     "metadata": {},
     "output_type": "execute_result"
    }
   ],
   "source": [
    "\"Belajar Python itu mudah\"[2]"
   ]
  },
  {
   "cell_type": "code",
   "execution_count": 19,
   "id": "62f672bb",
   "metadata": {},
   "outputs": [
    {
     "data": {
      "text/plain": [
       "'Be'"
      ]
     },
     "execution_count": 19,
     "metadata": {},
     "output_type": "execute_result"
    }
   ],
   "source": [
    "\"Belajar Python itu mudah\"[:2]"
   ]
  },
  {
   "cell_type": "code",
   "execution_count": 26,
   "id": "387cb199",
   "metadata": {
    "scrolled": true
   },
   "outputs": [
    {
     "data": {
      "text/plain": [
       "'lajar Python itu mudah'"
      ]
     },
     "execution_count": 26,
     "metadata": {},
     "output_type": "execute_result"
    }
   ],
   "source": [
    "\"Belajar Python itu mudah\"[2:]"
   ]
  },
  {
   "cell_type": "code",
   "execution_count": 30,
   "id": "05a23e62",
   "metadata": {},
   "outputs": [
    {
     "data": {
      "text/plain": [
       "'Belajar Python itu muda'"
      ]
     },
     "execution_count": 30,
     "metadata": {},
     "output_type": "execute_result"
    }
   ],
   "source": [
    "\"Belajar Python itu mudah\"[:-1]"
   ]
  },
  {
   "cell_type": "code",
   "execution_count": 31,
   "id": "e9493743",
   "metadata": {},
   "outputs": [
    {
     "data": {
      "text/plain": [
       "'h'"
      ]
     },
     "execution_count": 31,
     "metadata": {},
     "output_type": "execute_result"
    }
   ],
   "source": [
    "\"Belajar Python itu mudah\"[-1:]"
   ]
  },
  {
   "cell_type": "code",
   "execution_count": 22,
   "id": "1ee2f1ae",
   "metadata": {},
   "outputs": [
    {
     "data": {
      "text/plain": [
       "'elaj'"
      ]
     },
     "execution_count": 22,
     "metadata": {},
     "output_type": "execute_result"
    }
   ],
   "source": [
    "\"Belajar Python itu mudah\"[1:5]"
   ]
  },
  {
   "cell_type": "code",
   "execution_count": 25,
   "id": "6e4de808",
   "metadata": {},
   "outputs": [
    {
     "data": {
      "text/plain": [
       "'Belajar Python itu mudah'"
      ]
     },
     "execution_count": 25,
     "metadata": {},
     "output_type": "execute_result"
    }
   ],
   "source": [
    "# mengambil semua data\n",
    "\"Belajar Python itu mudah\"[:] "
   ]
  },
  {
   "cell_type": "code",
   "execution_count": 33,
   "id": "47ec158f",
   "metadata": {},
   "outputs": [
    {
     "data": {
      "text/plain": [
       "'Belajar Python itu muda'"
      ]
     },
     "execution_count": 33,
     "metadata": {},
     "output_type": "execute_result"
    }
   ],
   "source": [
    "\"Belajar Python itu mudah\"[0:-1] "
   ]
  },
  {
   "attachments": {
    "Cuplikan%20layar%202022-10-23%20094534.jpg": {
     "image/jpeg": "[encoded data removed]"
    }
   },
   "cell_type": "markdown",
   "id": "15c9f827",
   "metadata": {},
   "source": [
    "![Cuplikan%20layar%202022-10-23%20094534.jpg](attachment:Cuplikan%20layar%202022-10-23%20094534.jpg)"
   ]
  },
  {
   "cell_type": "code",
   "execution_count": 42,
   "id": "6640d3e9",
   "metadata": {},
   "outputs": [
    {
     "data": {
      "text/plain": [
       "'ljrPto t ua'"
      ]
     },
     "execution_count": 42,
     "metadata": {},
     "output_type": "execute_result"
    }
   ],
   "source": [
    "\"Belajar Python itu mudah\"[2:-1:2] \n",
    "# ambil mulai dari index 2 sampai dengan index -1(index -1 tidak di ikutkan) dan loncat 2"
   ]
  },
  {
   "cell_type": "code",
   "execution_count": 43,
   "id": "264c291d",
   "metadata": {},
   "outputs": [
    {
     "data": {
      "text/plain": [
       "'laPh uuh'"
      ]
     },
     "execution_count": 43,
     "metadata": {},
     "output_type": "execute_result"
    }
   ],
   "source": [
    "\"Belajar Python itu mudah\"[2::3] \n",
    "# ambil mulai dari index 2 sampai dengan index paling ujung dan loncat 3"
   ]
  },
  {
   "cell_type": "code",
   "execution_count": 47,
   "id": "cc13d8de",
   "metadata": {},
   "outputs": [
    {
     "data": {
      "text/plain": [
       "'hadum uti nohtyP rajaleB'"
      ]
     },
     "execution_count": 47,
     "metadata": {},
     "output_type": "execute_result"
    }
   ],
   "source": [
    "\"Belajar Python itu mudah\"[::-1] "
   ]
  },
  {
   "cell_type": "code",
   "execution_count": 50,
   "id": "d31d0260",
   "metadata": {},
   "outputs": [
    {
     "name": "stdout",
     "output_type": "stream",
     "text": [
      "[1, 2, 3, 4, 5, 6, 7, 8, 9, 10]\n"
     ]
    }
   ],
   "source": [
    "item = [1,2,3,4,5,6,7,8, 9, 10]\n",
    "print(item)"
   ]
  },
  {
   "cell_type": "code",
   "execution_count": 52,
   "id": "3679920d",
   "metadata": {},
   "outputs": [
    {
     "data": {
      "text/plain": [
       "[4, 7, 10]"
      ]
     },
     "execution_count": 52,
     "metadata": {},
     "output_type": "execute_result"
    }
   ],
   "source": [
    "item[3::3]\n",
    "#mengambil mulai dari index 3 sampai semuanya, dengan loncat 3"
   ]
  },
  {
   "cell_type": "code",
   "execution_count": null,
   "id": "34805c55",
   "metadata": {},
   "outputs": [],
   "source": []
  }
 ],
 "metadata": {
  "kernelspec": {
   "display_name": "Python 3 (ipykernel)",
   "language": "python",
   "name": "python3"
  },
  "language_info": {
   "codemirror_mode": {
    "name": "ipython",
    "version": 3
   },
   "file_extension": ".py",
   "mimetype": "text/x-python",
   "name": "python",
   "nbconvert_exporter": "python",
   "pygments_lexer": "ipython3",
   "version": "3.9.12"
  }
 },
 "nbformat": 4,
 "nbformat_minor": 5
}
