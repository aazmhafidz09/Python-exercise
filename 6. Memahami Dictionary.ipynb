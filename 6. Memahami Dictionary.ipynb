{
 "cells": [
  {
   "cell_type": "code",
   "execution_count": 2,
   "id": "55e31cbd",
   "metadata": {},
   "outputs": [
    {
     "name": "stdout",
     "output_type": "stream",
     "text": [
      "{'k1': 'ayam', 'k2': 'kambing', 'k3': 'sapi'}\n"
     ]
    }
   ],
   "source": [
    "dict1 = {'k1': 'ayam', 'k2':'kambing', 'k3':'sapi'}\n",
    "print(dict1)"
   ]
  },
  {
   "cell_type": "code",
   "execution_count": 3,
   "id": "36119144",
   "metadata": {},
   "outputs": [
    {
     "data": {
      "text/plain": [
       "'ayam'"
      ]
     },
     "execution_count": 3,
     "metadata": {},
     "output_type": "execute_result"
    }
   ],
   "source": [
    "dict1['k1']"
   ]
  },
  {
   "cell_type": "code",
   "execution_count": 5,
   "id": "98e4bb93",
   "metadata": {},
   "outputs": [
    {
     "data": {
      "text/plain": [
       "'kambing'"
      ]
     },
     "execution_count": 5,
     "metadata": {},
     "output_type": "execute_result"
    }
   ],
   "source": [
    "dict1['k2']"
   ]
  },
  {
   "cell_type": "code",
   "execution_count": 6,
   "id": "c3f77474",
   "metadata": {},
   "outputs": [
    {
     "data": {
      "text/plain": [
       "{'kijang innova': 250, 'avanza': 200, 'vios': 220}"
      ]
     },
     "execution_count": 6,
     "metadata": {},
     "output_type": "execute_result"
    }
   ],
   "source": [
    "daftar_harga = {'kijang innova':250, 'avanza':200, 'vios':220}\n",
    "daftar_harga"
   ]
  },
  {
   "cell_type": "code",
   "execution_count": 7,
   "id": "76ae38b4",
   "metadata": {},
   "outputs": [
    {
     "data": {
      "text/plain": [
       "250"
      ]
     },
     "execution_count": 7,
     "metadata": {},
     "output_type": "execute_result"
    }
   ],
   "source": [
    "daftar_harga['kijang innova']"
   ]
  },
  {
   "cell_type": "code",
   "execution_count": 8,
   "id": "dfff6cc2",
   "metadata": {},
   "outputs": [],
   "source": [
    "dict2 = {'k1':'ayam', 'k2':30, 'k3':[ 'a', 'b',20.5], 'k4': {'k5':'apel','k6':'jeruk', 'k7':'pisang'}}"
   ]
  },
  {
   "cell_type": "code",
   "execution_count": 9,
   "id": "b5dc51c6",
   "metadata": {},
   "outputs": [
    {
     "data": {
      "text/plain": [
       "{'k1': 'ayam',\n",
       " 'k2': 30,\n",
       " 'k3': ['a', 'b', 20.5],\n",
       " 'k4': {'k5': 'apel', 'k6': 'jeruk', 'k7': 'pisang'}}"
      ]
     },
     "execution_count": 9,
     "metadata": {},
     "output_type": "execute_result"
    }
   ],
   "source": [
    "dict2"
   ]
  },
  {
   "cell_type": "code",
   "execution_count": 10,
   "id": "159eb24e",
   "metadata": {},
   "outputs": [
    {
     "data": {
      "text/plain": [
       "{'k1': 'ayam',\n",
       " 'k2': 30,\n",
       " 'k3': 'Ganti Item',\n",
       " 'k4': {'k5': 'apel', 'k6': 'jeruk', 'k7': 'pisang'}}"
      ]
     },
     "execution_count": 10,
     "metadata": {},
     "output_type": "execute_result"
    }
   ],
   "source": [
    "dict2['k3']='Ganti Item'\n",
    "dict2"
   ]
  },
  {
   "cell_type": "code",
   "execution_count": 11,
   "id": "e51921e3",
   "metadata": {},
   "outputs": [
    {
     "data": {
      "text/plain": [
       "dict_keys(['k1', 'k2', 'k3', 'k4'])"
      ]
     },
     "execution_count": 11,
     "metadata": {},
     "output_type": "execute_result"
    }
   ],
   "source": [
    "dict2.keys()"
   ]
  },
  {
   "cell_type": "code",
   "execution_count": 13,
   "id": "a7c7420b",
   "metadata": {},
   "outputs": [
    {
     "data": {
      "text/plain": [
       "dict_values(['ayam', 30, 'Ganti Item', {'k5': 'apel', 'k6': 'jeruk', 'k7': 'pisang'}])"
      ]
     },
     "execution_count": 13,
     "metadata": {},
     "output_type": "execute_result"
    }
   ],
   "source": [
    "dict2.values()"
   ]
  },
  {
   "cell_type": "code",
   "execution_count": 14,
   "id": "044c4130",
   "metadata": {},
   "outputs": [
    {
     "data": {
      "text/plain": [
       "dict_items([('k1', 'ayam'), ('k2', 30), ('k3', 'Ganti Item'), ('k4', {'k5': 'apel', 'k6': 'jeruk', 'k7': 'pisang'})])"
      ]
     },
     "execution_count": 14,
     "metadata": {},
     "output_type": "execute_result"
    }
   ],
   "source": [
    "dict2.items()"
   ]
  },
  {
   "cell_type": "code",
   "execution_count": 15,
   "id": "7d27d5ce",
   "metadata": {},
   "outputs": [
    {
     "data": {
      "text/plain": [
       "'pisang'"
      ]
     },
     "execution_count": 15,
     "metadata": {},
     "output_type": "execute_result"
    }
   ],
   "source": [
    "dict2['k4']['k7']"
   ]
  },
  {
   "cell_type": "code",
   "execution_count": 17,
   "id": "a831fb59",
   "metadata": {},
   "outputs": [
    {
     "data": {
      "text/plain": [
       "'PISANG'"
      ]
     },
     "execution_count": 17,
     "metadata": {},
     "output_type": "execute_result"
    }
   ],
   "source": [
    "besar = dict2['k4']['k7']\n",
    "besar.upper()"
   ]
  },
  {
   "cell_type": "code",
   "execution_count": 18,
   "id": "5339ca69",
   "metadata": {},
   "outputs": [
    {
     "name": "stdout",
     "output_type": "stream",
     "text": [
      "PISANG\n"
     ]
    }
   ],
   "source": [
    "besar2 = dict2['k4']['k7'].upper()\n",
    "print(besar2)"
   ]
  },
  {
   "cell_type": "code",
   "execution_count": null,
   "id": "b85e64fa",
   "metadata": {},
   "outputs": [],
   "source": []
  }
 ],
 "metadata": {
  "kernelspec": {
   "display_name": "Python 3 (ipykernel)",
   "language": "python",
   "name": "python3"
  },
  "language_info": {
   "codemirror_mode": {
    "name": "ipython",
    "version": 3
   },
   "file_extension": ".py",
   "mimetype": "text/x-python",
   "name": "python",
   "nbconvert_exporter": "python",
   "pygments_lexer": "ipython3",
   "version": "3.9.12"
  }
 },
 "nbformat": 4,
 "nbformat_minor": 5
}
