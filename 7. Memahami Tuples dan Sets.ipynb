{
 "cells": [
  {
   "cell_type": "code",
   "execution_count": 4,
   "id": "63fe179e",
   "metadata": {},
   "outputs": [],
   "source": [
    "keranjangt1 = (1,2,3,4,5)"
   ]
  },
  {
   "cell_type": "code",
   "execution_count": 5,
   "id": "df4dd2d9",
   "metadata": {},
   "outputs": [],
   "source": [
    "keranjangt2 = 1,2,3,4,5"
   ]
  },
  {
   "cell_type": "code",
   "execution_count": 6,
   "id": "74c1a4a2",
   "metadata": {},
   "outputs": [
    {
     "name": "stdout",
     "output_type": "stream",
     "text": [
      "(1, 2, 3, 4, 5) (1, 2, 3, 4, 5)\n"
     ]
    }
   ],
   "source": [
    "print(keranjangt1, keranjangt2)"
   ]
  },
  {
   "cell_type": "code",
   "execution_count": 8,
   "id": "df203040",
   "metadata": {},
   "outputs": [
    {
     "name": "stdout",
     "output_type": "stream",
     "text": [
      "sama\n"
     ]
    }
   ],
   "source": [
    "if keranjangt1 == keranjangt2:\n",
    "    print(\"sama\")"
   ]
  },
  {
   "cell_type": "code",
   "execution_count": 9,
   "id": "ab88e65d",
   "metadata": {},
   "outputs": [
    {
     "data": {
      "text/plain": [
       "tuple"
      ]
     },
     "execution_count": 9,
     "metadata": {},
     "output_type": "execute_result"
    }
   ],
   "source": [
    "type(keranjangt1)"
   ]
  },
  {
   "cell_type": "code",
   "execution_count": 10,
   "id": "c16ce713",
   "metadata": {},
   "outputs": [
    {
     "data": {
      "text/plain": [
       "tuple"
      ]
     },
     "execution_count": 10,
     "metadata": {},
     "output_type": "execute_result"
    }
   ],
   "source": [
    "type(keranjangt2)"
   ]
  },
  {
   "cell_type": "code",
   "execution_count": 12,
   "id": "6215632e",
   "metadata": {},
   "outputs": [
    {
     "data": {
      "text/plain": [
       "2"
      ]
     },
     "execution_count": 12,
     "metadata": {},
     "output_type": "execute_result"
    }
   ],
   "source": [
    "keranjangt2[1]"
   ]
  },
  {
   "cell_type": "code",
   "execution_count": 14,
   "id": "3d499b2e",
   "metadata": {},
   "outputs": [
    {
     "ename": "TypeError",
     "evalue": "'tuple' object does not support item assignment",
     "output_type": "error",
     "traceback": [
      "\u001b[1;31m---------------------------------------------------------------------------\u001b[0m",
      "\u001b[1;31mTypeError\u001b[0m                                 Traceback (most recent call last)",
      "Input \u001b[1;32mIn [14]\u001b[0m, in \u001b[0;36m<cell line: 2>\u001b[1;34m()\u001b[0m\n\u001b[0;32m      1\u001b[0m \u001b[38;5;66;03m#di tuple tidak bisa di ganti\u001b[39;00m\n\u001b[1;32m----> 2\u001b[0m keranjangt2[\u001b[38;5;241m1\u001b[39m] \u001b[38;5;241m=\u001b[39m \u001b[38;5;124m'\u001b[39m\u001b[38;5;124mapel\u001b[39m\u001b[38;5;124m'\u001b[39m\n",
      "\u001b[1;31mTypeError\u001b[0m: 'tuple' object does not support item assignment"
     ]
    }
   ],
   "source": [
    "#di tuple tidak bisa di ganti\n",
    "keranjangt2[1] = 'apel'"
   ]
  },
  {
   "cell_type": "markdown",
   "id": "e896d043",
   "metadata": {},
   "source": [
    "---"
   ]
  },
  {
   "cell_type": "code",
   "execution_count": 15,
   "id": "0e042e39",
   "metadata": {},
   "outputs": [
    {
     "data": {
      "text/plain": [
       "(1, 2, 3, 4, 5)"
      ]
     },
     "execution_count": 15,
     "metadata": {},
     "output_type": "execute_result"
    }
   ],
   "source": [
    "keranjangt"
   ]
  },
  {
   "cell_type": "code",
   "execution_count": 17,
   "id": "b358f420",
   "metadata": {},
   "outputs": [],
   "source": [
    "\n",
    "#cara ganti yaitu dengan 2 cara, yaitu dengan mengisi satu persatu ke dalam list \n",
    "keranjangt = keranjangt[0], keranjangt[1], 'jeruk', keranjangt[3], keranjangt[4]\n",
    "\n",
    "#namun cara ini tidak pythonable, bagusnya dengan cara looping, nanti ketika bab looping "
   ]
  },
  {
   "cell_type": "code",
   "execution_count": 24,
   "id": "79de50a4",
   "metadata": {},
   "outputs": [
    {
     "data": {
      "text/plain": [
       "(1, 2, 3, 4, 5)"
      ]
     },
     "execution_count": 24,
     "metadata": {},
     "output_type": "execute_result"
    }
   ],
   "source": [
    "#masih dalam bentuk tuple\n",
    "keranjangt2"
   ]
  },
  {
   "cell_type": "code",
   "execution_count": 25,
   "id": "574929fe",
   "metadata": {},
   "outputs": [
    {
     "data": {
      "text/plain": [
       "[1, 2, 3, 4, 5]"
      ]
     },
     "execution_count": 25,
     "metadata": {},
     "output_type": "execute_result"
    }
   ],
   "source": [
    "# cara ke 2 yaitu dengan mengubah ke dalam bentuk list \n",
    "keranjangt2 = list(keranjangt2)\n",
    "keranjangt2"
   ]
  },
  {
   "cell_type": "code",
   "execution_count": 27,
   "id": "0e8b1b14",
   "metadata": {},
   "outputs": [
    {
     "data": {
      "text/plain": [
       "list"
      ]
     },
     "execution_count": 27,
     "metadata": {},
     "output_type": "execute_result"
    }
   ],
   "source": [
    "type(keranjangt2)"
   ]
  },
  {
   "cell_type": "code",
   "execution_count": 28,
   "id": "66580ff2",
   "metadata": {},
   "outputs": [],
   "source": [
    "keranjangt2[3] = 'jeruk'"
   ]
  },
  {
   "cell_type": "code",
   "execution_count": 29,
   "id": "bf233995",
   "metadata": {},
   "outputs": [
    {
     "data": {
      "text/plain": [
       "[1, 2, 3, 'jeruk', 5]"
      ]
     },
     "execution_count": 29,
     "metadata": {},
     "output_type": "execute_result"
    }
   ],
   "source": [
    "keranjangt2"
   ]
  },
  {
   "cell_type": "code",
   "execution_count": 30,
   "id": "870449e7",
   "metadata": {},
   "outputs": [
    {
     "data": {
      "text/plain": [
       "(1, 2, 3, 'jeruk', 5)"
      ]
     },
     "execution_count": 30,
     "metadata": {},
     "output_type": "execute_result"
    }
   ],
   "source": [
    "keranjangt2 = tuple(keranjangt2)\n",
    "keranjangt2"
   ]
  },
  {
   "cell_type": "markdown",
   "id": "1a2c26b7",
   "metadata": {},
   "source": [
    "---\n",
    "### Method di Tuples"
   ]
  },
  {
   "cell_type": "code",
   "execution_count": 38,
   "id": "266f6774",
   "metadata": {},
   "outputs": [],
   "source": [
    "t1 =(1,2,3,4,5, 2,2,2,2)\n",
    "l1 = [1,2,3,4,5]"
   ]
  },
  {
   "cell_type": "code",
   "execution_count": 39,
   "id": "3b4b2d3a",
   "metadata": {},
   "outputs": [
    {
     "data": {
      "text/plain": [
       "5"
      ]
     },
     "execution_count": 39,
     "metadata": {},
     "output_type": "execute_result"
    }
   ],
   "source": [
    "t1.count(2)"
   ]
  },
  {
   "cell_type": "code",
   "execution_count": 40,
   "id": "079a2d92",
   "metadata": {},
   "outputs": [
    {
     "data": {
      "text/plain": [
       "4"
      ]
     },
     "execution_count": 40,
     "metadata": {},
     "output_type": "execute_result"
    }
   ],
   "source": [
    "t1.index(5)"
   ]
  },
  {
   "cell_type": "markdown",
   "id": "8c35b923",
   "metadata": {},
   "source": [
    "### Multiple assignment & Tuples"
   ]
  },
  {
   "cell_type": "code",
   "execution_count": 42,
   "id": "bcda7af8",
   "metadata": {},
   "outputs": [],
   "source": [
    "a,b,c,d = 1,2,3,4"
   ]
  },
  {
   "cell_type": "code",
   "execution_count": 43,
   "id": "b0f87f66",
   "metadata": {},
   "outputs": [
    {
     "name": "stdout",
     "output_type": "stream",
     "text": [
      "1 2 3 4\n"
     ]
    }
   ],
   "source": [
    "print(a, b, c, d)"
   ]
  },
  {
   "cell_type": "code",
   "execution_count": 46,
   "id": "f4f95f39",
   "metadata": {},
   "outputs": [
    {
     "name": "stdout",
     "output_type": "stream",
     "text": [
      "2 1\n"
     ]
    }
   ],
   "source": [
    "#bisa dilakukan dengan penukaran\n",
    "a,b = b,a\n",
    "print(a,b)"
   ]
  },
  {
   "cell_type": "code",
   "execution_count": 47,
   "id": "46a2b86a",
   "metadata": {},
   "outputs": [
    {
     "name": "stdout",
     "output_type": "stream",
     "text": [
      "1 2\n"
     ]
    }
   ],
   "source": [
    "#bisa dilakukan dengan penukaran\n",
    "a,b = b,a\n",
    "print(a,b)"
   ]
  },
  {
   "cell_type": "code",
   "execution_count": 48,
   "id": "0130bfce",
   "metadata": {},
   "outputs": [
    {
     "name": "stdout",
     "output_type": "stream",
     "text": [
      "2 1\n"
     ]
    }
   ],
   "source": [
    "#bisa dilakukan dengan penukaran\n",
    "a,b = b,a\n",
    "print(a,b)"
   ]
  },
  {
   "cell_type": "markdown",
   "id": "52ceddf3",
   "metadata": {},
   "source": [
    "### melakukan assignment tuple secara langsung"
   ]
  },
  {
   "cell_type": "code",
   "execution_count": 50,
   "id": "e76d725b",
   "metadata": {},
   "outputs": [],
   "source": [
    "tas = ('rambutan', 2,3,['list1', 'list2'])"
   ]
  },
  {
   "cell_type": "code",
   "execution_count": 53,
   "id": "9a17f0d1",
   "metadata": {},
   "outputs": [],
   "source": [
    "item1, item2, item3, item4 = tas"
   ]
  },
  {
   "cell_type": "code",
   "execution_count": 54,
   "id": "afd8577d",
   "metadata": {},
   "outputs": [
    {
     "data": {
      "text/plain": [
       "'rambutan'"
      ]
     },
     "execution_count": 54,
     "metadata": {},
     "output_type": "execute_result"
    }
   ],
   "source": [
    "item1"
   ]
  },
  {
   "cell_type": "code",
   "execution_count": 55,
   "id": "ef01d138",
   "metadata": {},
   "outputs": [
    {
     "data": {
      "text/plain": [
       "2"
      ]
     },
     "execution_count": 55,
     "metadata": {},
     "output_type": "execute_result"
    }
   ],
   "source": [
    "item2"
   ]
  },
  {
   "cell_type": "code",
   "execution_count": 56,
   "id": "d53c8955",
   "metadata": {},
   "outputs": [
    {
     "data": {
      "text/plain": [
       "3"
      ]
     },
     "execution_count": 56,
     "metadata": {},
     "output_type": "execute_result"
    }
   ],
   "source": [
    "item3"
   ]
  },
  {
   "cell_type": "code",
   "execution_count": 57,
   "id": "c6db13cd",
   "metadata": {},
   "outputs": [
    {
     "data": {
      "text/plain": [
       "['list1', 'list2']"
      ]
     },
     "execution_count": 57,
     "metadata": {},
     "output_type": "execute_result"
    }
   ],
   "source": [
    "item4"
   ]
  },
  {
   "cell_type": "markdown",
   "id": "321f502f",
   "metadata": {},
   "source": [
    "---\n",
    "## SETS\n",
    "sets adalah sebuah tipe data untuk elemen yang bersifat unik (tanpa duplikasi) dan tidak berurutan"
   ]
  },
  {
   "cell_type": "code",
   "execution_count": 62,
   "id": "8af63e68",
   "metadata": {},
   "outputs": [],
   "source": [
    "set1 = set()"
   ]
  },
  {
   "cell_type": "code",
   "execution_count": 63,
   "id": "b483ad36",
   "metadata": {},
   "outputs": [
    {
     "data": {
      "text/plain": [
       "set()"
      ]
     },
     "execution_count": 63,
     "metadata": {},
     "output_type": "execute_result"
    }
   ],
   "source": [
    "set1"
   ]
  },
  {
   "cell_type": "code",
   "execution_count": 64,
   "id": "bf2889bb",
   "metadata": {},
   "outputs": [],
   "source": [
    "set1.add('biru')"
   ]
  },
  {
   "cell_type": "code",
   "execution_count": 65,
   "id": "1703cf93",
   "metadata": {},
   "outputs": [
    {
     "data": {
      "text/plain": [
       "{'biru'}"
      ]
     },
     "execution_count": 65,
     "metadata": {},
     "output_type": "execute_result"
    }
   ],
   "source": [
    "set1"
   ]
  },
  {
   "cell_type": "code",
   "execution_count": 66,
   "id": "d7f39b7a",
   "metadata": {},
   "outputs": [],
   "source": [
    "set1.add('kuning')"
   ]
  },
  {
   "cell_type": "code",
   "execution_count": 67,
   "id": "2922bca5",
   "metadata": {},
   "outputs": [
    {
     "data": {
      "text/plain": [
       "{'biru', 'kuning'}"
      ]
     },
     "execution_count": 67,
     "metadata": {},
     "output_type": "execute_result"
    }
   ],
   "source": [
    "set1"
   ]
  },
  {
   "cell_type": "code",
   "execution_count": 68,
   "id": "2c3eefc6",
   "metadata": {},
   "outputs": [
    {
     "data": {
      "text/plain": [
       "[1, 2, 2, 3, 3, 4, 4, 5, 6, 7]"
      ]
     },
     "execution_count": 68,
     "metadata": {},
     "output_type": "execute_result"
    }
   ],
   "source": [
    "list_angka = [1,2,2,3,3,4,4,5,6,7,]\n",
    "list_angka"
   ]
  },
  {
   "cell_type": "code",
   "execution_count": 69,
   "id": "628c9f33",
   "metadata": {},
   "outputs": [
    {
     "data": {
      "text/plain": [
       "{1, 2, 3, 4, 5, 6, 7}"
      ]
     },
     "execution_count": 69,
     "metadata": {},
     "output_type": "execute_result"
    }
   ],
   "source": [
    "set_angka = set(list_angka)\n",
    "set_angka\n",
    "# Tidak ada "
   ]
  },
  {
   "cell_type": "code",
   "execution_count": null,
   "id": "2e522376",
   "metadata": {},
   "outputs": [],
   "source": []
  }
 ],
 "metadata": {
  "kernelspec": {
   "display_name": "Python 3 (ipykernel)",
   "language": "python",
   "name": "python3"
  },
  "language_info": {
   "codemirror_mode": {
    "name": "ipython",
    "version": 3
   },
   "file_extension": ".py",
   "mimetype": "text/x-python",
   "name": "python",
   "nbconvert_exporter": "python",
   "pygments_lexer": "ipython3",
   "version": "3.9.12"
  }
 },
 "nbformat": 4,
 "nbformat_minor": 5
}
