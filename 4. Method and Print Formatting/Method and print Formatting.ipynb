{
 "cells": [
  {
   "cell_type": "markdown",
   "id": "4344cbc5",
   "metadata": {},
   "source": [
    "### String tidak bisa di gantikan datanya (immutable)"
   ]
  },
  {
   "cell_type": "markdown",
   "id": "582a1773",
   "metadata": {},
   "source": [
    "jika pada number bisa"
   ]
  },
  {
   "cell_type": "code",
   "execution_count": 1,
   "id": "acee4318",
   "metadata": {},
   "outputs": [],
   "source": [
    "var1 = [1,2,3,4,5]"
   ]
  },
  {
   "cell_type": "code",
   "execution_count": 2,
   "id": "79218aea",
   "metadata": {},
   "outputs": [],
   "source": [
    "var1[1] = 100"
   ]
  },
  {
   "cell_type": "code",
   "execution_count": 3,
   "id": "690b9d77",
   "metadata": {},
   "outputs": [
    {
     "data": {
      "text/plain": [
       "[1, 100, 3, 4, 5]"
      ]
     },
     "execution_count": 3,
     "metadata": {},
     "output_type": "execute_result"
    }
   ],
   "source": [
    "var1"
   ]
  },
  {
   "cell_type": "markdown",
   "id": "a685c8f0",
   "metadata": {},
   "source": [
    "tetapi pada string, tidak bisa "
   ]
  },
  {
   "cell_type": "code",
   "execution_count": 4,
   "id": "e8e25aae",
   "metadata": {},
   "outputs": [],
   "source": [
    "nama1 = \"bambang\""
   ]
  },
  {
   "cell_type": "code",
   "execution_count": 8,
   "id": "18b8c745",
   "metadata": {},
   "outputs": [
    {
     "data": {
      "text/plain": [
       "'bamb'"
      ]
     },
     "execution_count": 8,
     "metadata": {},
     "output_type": "execute_result"
    }
   ],
   "source": [
    "nama1[:4]\n",
    "# 4 angka karena di ambil dari index 0 sampai dengan 3"
   ]
  },
  {
   "cell_type": "code",
   "execution_count": 9,
   "id": "0190317d",
   "metadata": {
    "scrolled": true
   },
   "outputs": [
    {
     "ename": "TypeError",
     "evalue": "'str' object does not support item assignment",
     "output_type": "error",
     "traceback": [
      "\u001b[1;31m---------------------------------------------------------------------------\u001b[0m",
      "\u001b[1;31mTypeError\u001b[0m                                 Traceback (most recent call last)",
      "Input \u001b[1;32mIn [9]\u001b[0m, in \u001b[0;36m<cell line: 1>\u001b[1;34m()\u001b[0m\n\u001b[1;32m----> 1\u001b[0m nama1[\u001b[38;5;241m2\u001b[39m] \u001b[38;5;241m=\u001b[39m \u001b[38;5;124m\"\u001b[39m\u001b[38;5;124mb\u001b[39m\u001b[38;5;124m\"\u001b[39m\n",
      "\u001b[1;31mTypeError\u001b[0m: 'str' object does not support item assignment"
     ]
    }
   ],
   "source": [
    "nama1[2] = \"b\""
   ]
  },
  {
   "cell_type": "markdown",
   "id": "90acfd1c",
   "metadata": {},
   "source": [
    "tetapi di python bisanya yaitu mengambil data yang lama dan diassign dengan variable baru "
   ]
  },
  {
   "cell_type": "code",
   "execution_count": 10,
   "id": "1436671c",
   "metadata": {},
   "outputs": [
    {
     "data": {
      "text/plain": [
       "'bambang cipto'"
      ]
     },
     "execution_count": 10,
     "metadata": {},
     "output_type": "execute_result"
    }
   ],
   "source": [
    "namaLengkap = nama1 + \" cipto\"\n",
    "namaLengkap"
   ]
  },
  {
   "cell_type": "code",
   "execution_count": 11,
   "id": "43a4b40c",
   "metadata": {},
   "outputs": [
    {
     "data": {
      "text/plain": [
       "'bamba cipto'"
      ]
     },
     "execution_count": 11,
     "metadata": {},
     "output_type": "execute_result"
    }
   ],
   "source": [
    "namaLengkap1 = nama1[:5] + \" cipto\"\n",
    "namaLengkap1"
   ]
  },
  {
   "cell_type": "markdown",
   "id": "3d4c71bd",
   "metadata": {},
   "source": [
    "## Method di Pyhton"
   ]
  },
  {
   "cell_type": "code",
   "execution_count": 12,
   "id": "073a0972",
   "metadata": {},
   "outputs": [
    {
     "data": {
      "text/plain": [
       "'makanan sehat itu adalah 4 sehat 5 sempurna'"
      ]
     },
     "execution_count": 12,
     "metadata": {},
     "output_type": "execute_result"
    }
   ],
   "source": [
    "var1 = \"makanan sehat itu adalah 4 sehat 5 sempurna\"\n",
    "var1 "
   ]
  },
  {
   "cell_type": "code",
   "execution_count": 16,
   "id": "d033571b",
   "metadata": {},
   "outputs": [
    {
     "data": {
      "text/plain": [
       "True"
      ]
     },
     "execution_count": 16,
     "metadata": {},
     "output_type": "execute_result"
    }
   ],
   "source": [
    "var1.islower()"
   ]
  },
  {
   "cell_type": "code",
   "execution_count": 17,
   "id": "4d06c401",
   "metadata": {},
   "outputs": [
    {
     "data": {
      "text/plain": [
       "'MAKANAN SEHAT ITU ADALAH 4 SEHAT 5 SEMPURNA'"
      ]
     },
     "execution_count": 17,
     "metadata": {},
     "output_type": "execute_result"
    }
   ],
   "source": [
    "var1.upper()"
   ]
  },
  {
   "cell_type": "code",
   "execution_count": 19,
   "id": "2189d0ed",
   "metadata": {},
   "outputs": [
    {
     "data": {
      "text/plain": [
       "['makanan', 'sehat', 'itu', 'adalah', '4', 'sehat', '5', 'sempurna']"
      ]
     },
     "execution_count": 19,
     "metadata": {},
     "output_type": "execute_result"
    }
   ],
   "source": [
    "var1.split()\n",
    "#spasi sebagai alat potong"
   ]
  },
  {
   "cell_type": "code",
   "execution_count": 21,
   "id": "d93bcf72",
   "metadata": {},
   "outputs": [
    {
     "data": {
      "text/plain": [
       "['m', 'k', 'n', 'n seh', 't itu ', 'd', 'l', 'h 4 seh', 't 5 sempurn', '']"
      ]
     },
     "execution_count": 21,
     "metadata": {},
     "output_type": "execute_result"
    }
   ],
   "source": [
    "var1.split(\"a\")\n",
    "#parameter split nya adalah A"
   ]
  },
  {
   "cell_type": "code",
   "execution_count": 22,
   "id": "41970d0e",
   "metadata": {},
   "outputs": [
    {
     "data": {
      "text/plain": [
       "['makanan', 'sehat', 'itu', 'adalah', '4', 'sehat', '5', 'sempurna']"
      ]
     },
     "execution_count": 22,
     "metadata": {},
     "output_type": "execute_result"
    }
   ],
   "source": [
    "var1.split()"
   ]
  },
  {
   "attachments": {
    "2022_10_23_10_28_23_Method_and_print_Formatting_Jupyter_Notebook.jpg": {
     "image/jpeg": "[encoded data removed]"
    }
   },
   "cell_type": "markdown",
   "id": "1de611bf",
   "metadata": {},
   "source": [
    "![2022_10_23_10_28_23_Method_and_print_Formatting_Jupyter_Notebook.jpg](attachment:2022_10_23_10_28_23_Method_and_print_Formatting_Jupyter_Notebook.jpg)"
   ]
  },
  {
   "cell_type": "markdown",
   "id": "2bd8ebfe",
   "metadata": {},
   "source": [
    "### Print Method and Formatting di Python"
   ]
  },
  {
   "cell_type": "code",
   "execution_count": 23,
   "id": "7e264b51",
   "metadata": {},
   "outputs": [],
   "source": [
    "var1 = \"Ayam goreng KFC dan MCD mana yang lebih enak?\""
   ]
  },
  {
   "cell_type": "code",
   "execution_count": 24,
   "id": "8ec65e34",
   "metadata": {},
   "outputs": [
    {
     "name": "stdout",
     "output_type": "stream",
     "text": [
      "Ayam goreng KFC dan MCD mana yang lebih enak?\n"
     ]
    }
   ],
   "source": [
    "print(var1)"
   ]
  },
  {
   "cell_type": "code",
   "execution_count": 25,
   "id": "28d8bc5a",
   "metadata": {},
   "outputs": [
    {
     "data": {
      "text/plain": [
       "'Ayam goreng KFC dan MCD mana yang lebih enak?'"
      ]
     },
     "execution_count": 25,
     "metadata": {},
     "output_type": "execute_result"
    }
   ],
   "source": [
    "var1"
   ]
  },
  {
   "cell_type": "code",
   "execution_count": 31,
   "id": "9888a929",
   "metadata": {},
   "outputs": [
    {
     "name": "stdout",
     "output_type": "stream",
     "text": [
      "ini ada 10 buah \n"
     ]
    }
   ],
   "source": [
    "print(\"ini ada {} buah \".format(\"10\"))"
   ]
  },
  {
   "cell_type": "code",
   "execution_count": 27,
   "id": "f4eac410",
   "metadata": {},
   "outputs": [
    {
     "name": "stdout",
     "output_type": "stream",
     "text": [
      "ini ada 10 buah \n"
     ]
    }
   ],
   "source": [
    "print(\"ini ada 10 buah \")"
   ]
  },
  {
   "cell_type": "code",
   "execution_count": 30,
   "id": "861ed667",
   "metadata": {},
   "outputs": [
    {
     "name": "stdout",
     "output_type": "stream",
     "text": [
      "urutan pemenang lomba lari adalah aji bambang budi\n"
     ]
    }
   ],
   "source": [
    "print(\"urutan pemenang lomba lari adalah {} {} {}\".format(\"aji\", \"bambang\", \"budi\"))"
   ]
  },
  {
   "cell_type": "code",
   "execution_count": 34,
   "id": "84df3217",
   "metadata": {},
   "outputs": [
    {
     "name": "stdout",
     "output_type": "stream",
     "text": [
      "urutan pemenagn lomba lari adalah budi bambang aji\n"
     ]
    }
   ],
   "source": [
    "#dalam kurung bisa menunjukan indeks\n",
    "print(\"urutan pemenagn lomba lari adalah {2} {1} {0}\".format(\"aji\", \"bambang\", \"budi\"))\n"
   ]
  },
  {
   "cell_type": "code",
   "execution_count": 36,
   "id": "d5d59d07",
   "metadata": {},
   "outputs": [
    {
     "name": "stdout",
     "output_type": "stream",
     "text": [
      "urutan pemenagn lomba lari adalah aji bambang budi\n"
     ]
    }
   ],
   "source": [
    "#dalam kurung bisa menggunakan variable\n",
    "print(\"urutan pemenagn lomba lari adalah {a} {b} {c}\".format(a=\"aji\", b=\"bambang\", c=\"budi\"))\n"
   ]
  },
  {
   "cell_type": "code",
   "execution_count": 37,
   "id": "ec8d95e4",
   "metadata": {},
   "outputs": [
    {
     "name": "stdout",
     "output_type": "stream",
     "text": [
      "3.142857142857143\n"
     ]
    }
   ],
   "source": [
    "phi = 22/7\n",
    "print(phi)"
   ]
  },
  {
   "cell_type": "code",
   "execution_count": 38,
   "id": "74969c72",
   "metadata": {},
   "outputs": [
    {
     "name": "stdout",
     "output_type": "stream",
     "text": [
      "untuk menghitung luas lingkaran, maka menggunakan 3.142857142857143\n"
     ]
    }
   ],
   "source": [
    "print('untuk menghitung luas lingkaran, maka menggunakan {}'.format(phi))"
   ]
  },
  {
   "cell_type": "code",
   "execution_count": 39,
   "id": "2346c694",
   "metadata": {},
   "outputs": [],
   "source": [
    "luas1 = 667.9\n",
    "luas2 = 998.7"
   ]
  },
  {
   "cell_type": "markdown",
   "id": "8b951669",
   "metadata": {},
   "source": [
    "### format penulisan untuk method print "
   ]
  },
  {
   "cell_type": "code",
   "execution_count": 40,
   "id": "db1239be",
   "metadata": {},
   "outputs": [
    {
     "name": "stdout",
     "output_type": "stream",
     "text": [
      "luas tanah yang dimiliki pak budi adalah 667.9 998.7\n"
     ]
    }
   ],
   "source": [
    "print('luas tanah yang dimiliki pak budi adalah {} {}'.format(luas1, luas2))"
   ]
  },
  {
   "cell_type": "code",
   "execution_count": 41,
   "id": "844ed586",
   "metadata": {},
   "outputs": [
    {
     "name": "stdout",
     "output_type": "stream",
     "text": [
      "luas tanah yang dimiliki pak budi adalah 667.9 998.7\n"
     ]
    }
   ],
   "source": [
    "print('luas tanah yang dimiliki pak budi adalah {a} {b}'.format(a=luas1, b=luas2))"
   ]
  },
  {
   "cell_type": "code",
   "execution_count": 47,
   "id": "afaa278a",
   "metadata": {},
   "outputs": [
    {
     "name": "stdout",
     "output_type": "stream",
     "text": [
      "luas tanah yang dimiliki pak budi adalah 667.900 998.70\n"
     ]
    }
   ],
   "source": [
    "#penulisan 3 angka dibelakang koma menggunakan 3f, jika 2 maka 2f. \n",
    "print('luas tanah yang dimiliki pak budi adalah {a:3.3f} {b:2.2f}'.format(a=luas1, b=luas2))"
   ]
  },
  {
   "cell_type": "code",
   "execution_count": 52,
   "id": "3141f179",
   "metadata": {},
   "outputs": [
    {
     "name": "stdout",
     "output_type": "stream",
     "text": [
      "luas tanah yang dimiliki pak budi adalah     667.900 998.70\n"
     ]
    }
   ],
   "source": [
    "#penulisan 3 angka dibelakang koma menggunakan 3f, jika 2 maka 2f. \n",
    "#a:11 artinya mengambil karakter dari a sebanyak 11, karena 667.900 hanya ada 7 karakter, maka akan diambil spasi\n",
    "print('luas tanah yang dimiliki pak budi adalah {a:11.3f} {b:2.2f}'.format(a=luas1, b=luas2))"
   ]
  },
  {
   "cell_type": "code",
   "execution_count": null,
   "id": "b4073771",
   "metadata": {},
   "outputs": [],
   "source": []
  }
 ],
 "metadata": {
  "kernelspec": {
   "display_name": "Python 3 (ipykernel)",
   "language": "python",
   "name": "python3"
  },
  "language_info": {
   "codemirror_mode": {
    "name": "ipython",
    "version": 3
   },
   "file_extension": ".py",
   "mimetype": "text/x-python",
   "name": "python",
   "nbconvert_exporter": "python",
   "pygments_lexer": "ipython3",
   "version": "3.9.12"
  }
 },
 "nbformat": 4,
 "nbformat_minor": 5
}
