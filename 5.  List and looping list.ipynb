{
 "cells": [
  {
   "cell_type": "code",
   "execution_count": 1,
   "id": "3f9a68ce",
   "metadata": {},
   "outputs": [
    {
     "name": "stdout",
     "output_type": "stream",
     "text": [
      "[1, 2.3, 'apel']\n"
     ]
    }
   ],
   "source": [
    "keranjang = [1,2.3, \"apel\"]\n",
    "print(keranjang)"
   ]
  },
  {
   "cell_type": "code",
   "execution_count": 2,
   "id": "04e86bda",
   "metadata": {},
   "outputs": [
    {
     "data": {
      "text/plain": [
       "3"
      ]
     },
     "execution_count": 2,
     "metadata": {},
     "output_type": "execute_result"
    }
   ],
   "source": [
    "len(keranjang)\n"
   ]
  },
  {
   "cell_type": "code",
   "execution_count": 5,
   "id": "cab28c6e",
   "metadata": {},
   "outputs": [
    {
     "name": "stdout",
     "output_type": "stream",
     "text": [
      "0\n",
      "1\n",
      "2\n"
     ]
    }
   ],
   "source": [
    "for i in range( len(keranjang)):\n",
    "    print(i)"
   ]
  },
  {
   "cell_type": "code",
   "execution_count": 6,
   "id": "8380aecd",
   "metadata": {},
   "outputs": [
    {
     "name": "stdout",
     "output_type": "stream",
     "text": [
      "1\n",
      "2.3\n",
      "apel\n"
     ]
    }
   ],
   "source": [
    "for i in range (len(keranjang)):\n",
    "    print(keranjang[i])"
   ]
  },
  {
   "cell_type": "markdown",
   "id": "d1624f44",
   "metadata": {},
   "source": [
    "---"
   ]
  },
  {
   "cell_type": "code",
   "execution_count": 7,
   "id": "491469ea",
   "metadata": {},
   "outputs": [
    {
     "data": {
      "text/plain": [
       "[1, 2.3, 'apel']"
      ]
     },
     "execution_count": 7,
     "metadata": {},
     "output_type": "execute_result"
    }
   ],
   "source": [
    "keranjang"
   ]
  },
  {
   "cell_type": "code",
   "execution_count": 9,
   "id": "87dba33a",
   "metadata": {},
   "outputs": [
    {
     "name": "stdout",
     "output_type": "stream",
     "text": [
      "[1, 'mangga', 'apel']\n"
     ]
    }
   ],
   "source": [
    "keranjang[1] = \"mangga\"\n",
    "print(keranjang)"
   ]
  },
  {
   "cell_type": "code",
   "execution_count": 10,
   "id": "07518179",
   "metadata": {},
   "outputs": [],
   "source": [
    "jeruk = [\"jeruk\"]"
   ]
  },
  {
   "cell_type": "code",
   "execution_count": 11,
   "id": "d3d13a63",
   "metadata": {},
   "outputs": [
    {
     "name": "stdout",
     "output_type": "stream",
     "text": [
      "[1, 'mangga', 'apel', 'jeruk']\n"
     ]
    }
   ],
   "source": [
    "keranjang = keranjang + jeruk \n",
    "print(keranjang)"
   ]
  },
  {
   "cell_type": "code",
   "execution_count": 12,
   "id": "8cfe31a1",
   "metadata": {},
   "outputs": [
    {
     "name": "stdout",
     "output_type": "stream",
     "text": [
      "[1, 'mangga', 'apel', 'jeruk', 'pisang']\n"
     ]
    }
   ],
   "source": [
    "keranjang.append(\"pisang\")\n",
    "print(keranjang)"
   ]
  },
  {
   "cell_type": "code",
   "execution_count": 14,
   "id": "6d010930",
   "metadata": {},
   "outputs": [
    {
     "name": "stdout",
     "output_type": "stream",
     "text": [
      "['anggur', 'nanas', 'jeruk bali', 'apel washington']\n"
     ]
    }
   ],
   "source": [
    "buah_lagi = ['anggur', 'nanas', 'jeruk bali', 'apel washington']\n",
    "print(buah_lagi)"
   ]
  },
  {
   "cell_type": "code",
   "execution_count": 15,
   "id": "ff1ea2aa",
   "metadata": {},
   "outputs": [],
   "source": [
    "keranjang= keranjang + buah_lagi"
   ]
  },
  {
   "cell_type": "code",
   "execution_count": 16,
   "id": "d9452f76",
   "metadata": {},
   "outputs": [
    {
     "name": "stdout",
     "output_type": "stream",
     "text": [
      "[1, 'mangga', 'apel', 'jeruk', 'pisang', 'anggur', 'nanas', 'jeruk bali', 'apel washington']\n"
     ]
    }
   ],
   "source": [
    "print(keranjang)"
   ]
  },
  {
   "cell_type": "code",
   "execution_count": 17,
   "id": "f5f2b820",
   "metadata": {},
   "outputs": [
    {
     "data": {
      "text/plain": [
       "9"
      ]
     },
     "execution_count": 17,
     "metadata": {},
     "output_type": "execute_result"
    }
   ],
   "source": [
    "len(keranjang)"
   ]
  },
  {
   "cell_type": "markdown",
   "id": "bde90a50",
   "metadata": {},
   "source": [
    "jika dilakukan langsung append antara keranjang ([1, 'mangga', 'apel', 'jeruk', 'pisang']) dengan buah_lagi (['anggur', 'nanas', 'jeruk bali', 'apel washington']) , maka akan terjadi list di dalam list. "
   ]
  },
  {
   "cell_type": "code",
   "execution_count": 20,
   "id": "5f5df3fd",
   "metadata": {},
   "outputs": [
    {
     "data": {
      "text/plain": [
       "[1,\n",
       " 'mangga',\n",
       " 'apel',\n",
       " 'jeruk',\n",
       " 'pisang',\n",
       " 'anggur',\n",
       " 'nanas',\n",
       " 'jeruk bali',\n",
       " 'apel washington',\n",
       " ['anggur', 'nanas', 'jeruk bali', 'apel washington'],\n",
       " ['anggur', 'nanas', 'jeruk bali', 'apel washington'],\n",
       " ['anggur', 'nanas', 'jeruk bali', 'apel washington']]"
      ]
     },
     "execution_count": 20,
     "metadata": {},
     "output_type": "execute_result"
    }
   ],
   "source": [
    "keranjang.append(buah_lagi)\n",
    "keranjang\n",
    "#menjadi 3 karena di running sebanyak 3 kali"
   ]
  },
  {
   "cell_type": "markdown",
   "id": "ba28f51b",
   "metadata": {},
   "source": [
    "---"
   ]
  },
  {
   "cell_type": "code",
   "execution_count": 25,
   "id": "d1ee621e",
   "metadata": {},
   "outputs": [],
   "source": [
    "baru = [1,2,3,4,5,6]"
   ]
  },
  {
   "cell_type": "code",
   "execution_count": 26,
   "id": "fc759963",
   "metadata": {},
   "outputs": [
    {
     "data": {
      "text/plain": [
       "[1, 2, 3, 4, 5, 6]"
      ]
     },
     "execution_count": 26,
     "metadata": {},
     "output_type": "execute_result"
    }
   ],
   "source": [
    "baru"
   ]
  },
  {
   "cell_type": "code",
   "execution_count": 27,
   "id": "00b2701b",
   "metadata": {},
   "outputs": [
    {
     "data": {
      "text/plain": [
       "6"
      ]
     },
     "execution_count": 27,
     "metadata": {},
     "output_type": "execute_result"
    }
   ],
   "source": [
    "# menghapus nilai terakhir dari baru\n",
    "baru.pop()"
   ]
  },
  {
   "cell_type": "code",
   "execution_count": 28,
   "id": "a48b48d6",
   "metadata": {},
   "outputs": [
    {
     "data": {
      "text/plain": [
       "[1, 2, 3, 4, 5]"
      ]
     },
     "execution_count": 28,
     "metadata": {},
     "output_type": "execute_result"
    }
   ],
   "source": [
    "baru"
   ]
  },
  {
   "cell_type": "code",
   "execution_count": 29,
   "id": "44b1f15a",
   "metadata": {},
   "outputs": [
    {
     "data": {
      "text/plain": [
       "[1, 2, 4, 5]"
      ]
     },
     "execution_count": 29,
     "metadata": {},
     "output_type": "execute_result"
    }
   ],
   "source": [
    "# parameter 2 akan menghapus data dengan indeks 2\n",
    "baru.pop(2)\n",
    "baru"
   ]
  },
  {
   "cell_type": "markdown",
   "id": "782a0529",
   "metadata": {},
   "source": [
    "---"
   ]
  },
  {
   "cell_type": "code",
   "execution_count": 30,
   "id": "4f9aab88",
   "metadata": {},
   "outputs": [
    {
     "data": {
      "text/plain": [
       "[1, 2, 5, 7, 4, 9]"
      ]
     },
     "execution_count": 30,
     "metadata": {},
     "output_type": "execute_result"
    }
   ],
   "source": [
    "#melakukan sorting \n",
    "variabel = [1,2,5,7,4,9]\n",
    "variabel\n"
   ]
  },
  {
   "cell_type": "code",
   "execution_count": 31,
   "id": "a3d1d59f",
   "metadata": {},
   "outputs": [
    {
     "data": {
      "text/plain": [
       "[1, 3, 7, 4, 2, 9, 8]"
      ]
     },
     "execution_count": 31,
     "metadata": {},
     "output_type": "execute_result"
    }
   ],
   "source": [
    "var_2 = [1,3,7,4,2,9,8]\n",
    "var_2"
   ]
  },
  {
   "cell_type": "code",
   "execution_count": 32,
   "id": "f6406517",
   "metadata": {},
   "outputs": [],
   "source": [
    "variabel.sort()"
   ]
  },
  {
   "cell_type": "code",
   "execution_count": 33,
   "id": "cda3c8bc",
   "metadata": {},
   "outputs": [
    {
     "data": {
      "text/plain": [
       "[1, 2, 4, 5, 7, 9]"
      ]
     },
     "execution_count": 33,
     "metadata": {},
     "output_type": "execute_result"
    }
   ],
   "source": [
    "variabel"
   ]
  },
  {
   "cell_type": "code",
   "execution_count": 34,
   "id": "520ed54a",
   "metadata": {},
   "outputs": [
    {
     "data": {
      "text/plain": [
       "[1, 2, 4, 5, 7, 9]"
      ]
     },
     "execution_count": 34,
     "metadata": {},
     "output_type": "execute_result"
    }
   ],
   "source": [
    "# jika ingin memasukan variabel, maka langsung kedalam nama variabel nya \n",
    "var_3 = variabel\n",
    "var_3"
   ]
  },
  {
   "cell_type": "markdown",
   "id": "a441ade7",
   "metadata": {},
   "source": [
    "---\n",
    "### Nested List "
   ]
  },
  {
   "cell_type": "code",
   "execution_count": 35,
   "id": "0aab73fd",
   "metadata": {},
   "outputs": [
    {
     "data": {
      "text/plain": [
       "[1, 2, 3, 4, 5, [6, 7, 8]]"
      ]
     },
     "execution_count": 35,
     "metadata": {},
     "output_type": "execute_result"
    }
   ],
   "source": [
    "isi = [1,2,3,4,5,[6,7,8]]\n",
    "isi"
   ]
  },
  {
   "cell_type": "code",
   "execution_count": 36,
   "id": "4823abc6",
   "metadata": {},
   "outputs": [
    {
     "data": {
      "text/plain": [
       "3"
      ]
     },
     "execution_count": 36,
     "metadata": {},
     "output_type": "execute_result"
    }
   ],
   "source": [
    "isi[2]"
   ]
  },
  {
   "cell_type": "code",
   "execution_count": 37,
   "id": "58eed703",
   "metadata": {},
   "outputs": [
    {
     "data": {
      "text/plain": [
       "[3, 4, 5, [6, 7, 8]]"
      ]
     },
     "execution_count": 37,
     "metadata": {},
     "output_type": "execute_result"
    }
   ],
   "source": [
    "isi[2:]"
   ]
  },
  {
   "cell_type": "code",
   "execution_count": 38,
   "id": "f21541f9",
   "metadata": {},
   "outputs": [
    {
     "data": {
      "text/plain": [
       "[[6, 7, 8]]"
      ]
     },
     "execution_count": 38,
     "metadata": {},
     "output_type": "execute_result"
    }
   ],
   "source": [
    "isi[5:]"
   ]
  },
  {
   "cell_type": "code",
   "execution_count": 39,
   "id": "f1af10a7",
   "metadata": {},
   "outputs": [
    {
     "data": {
      "text/plain": [
       "[6, 7, 8]"
      ]
     },
     "execution_count": 39,
     "metadata": {},
     "output_type": "execute_result"
    }
   ],
   "source": [
    "isi[5]"
   ]
  },
  {
   "cell_type": "code",
   "execution_count": 40,
   "id": "906a2c20",
   "metadata": {},
   "outputs": [
    {
     "data": {
      "text/plain": [
       "8"
      ]
     },
     "execution_count": 40,
     "metadata": {},
     "output_type": "execute_result"
    }
   ],
   "source": [
    "isi[5][2]"
   ]
  },
  {
   "cell_type": "code",
   "execution_count": 41,
   "id": "5b84f385",
   "metadata": {},
   "outputs": [
    {
     "data": {
      "text/plain": [
       "[1, 2, 3, 4, 5, [6, 7, 8, [9, 10, 11, 'target', 12]]]"
      ]
     },
     "execution_count": 41,
     "metadata": {},
     "output_type": "execute_result"
    }
   ],
   "source": [
    "isi2 = [1,2,3,4,5,[6,7,8,[9,10,11,'target', 12]]]\n",
    "isi2"
   ]
  },
  {
   "cell_type": "code",
   "execution_count": 42,
   "id": "8f0396cc",
   "metadata": {},
   "outputs": [
    {
     "data": {
      "text/plain": [
       "'target'"
      ]
     },
     "execution_count": 42,
     "metadata": {},
     "output_type": "execute_result"
    }
   ],
   "source": [
    "isi2[5][3][3]"
   ]
  },
  {
   "cell_type": "markdown",
   "id": "26837df0",
   "metadata": {},
   "source": [
    "---\n",
    "### lebih dalam mengenai List"
   ]
  },
  {
   "cell_type": "code",
   "execution_count": 43,
   "id": "d118b218",
   "metadata": {},
   "outputs": [],
   "source": [
    "var2 = list()"
   ]
  },
  {
   "cell_type": "code",
   "execution_count": 44,
   "id": "9ff6b300",
   "metadata": {},
   "outputs": [],
   "source": [
    "var1 = []"
   ]
  },
  {
   "cell_type": "code",
   "execution_count": 45,
   "id": "5f76cb33",
   "metadata": {},
   "outputs": [
    {
     "name": "stdout",
     "output_type": "stream",
     "text": [
      "type data antara variabel 1 dengan variabel 2 adalah sama\n"
     ]
    }
   ],
   "source": [
    "if var1 == var2:\n",
    "    print(\"type data antara variabel 1 dengan variabel 2 adalah sama\")"
   ]
  },
  {
   "cell_type": "code",
   "execution_count": 46,
   "id": "2d739733",
   "metadata": {},
   "outputs": [
    {
     "data": {
      "text/plain": [
       "['s',\n",
       " 'a',\n",
       " 'y',\n",
       " 'a',\n",
       " ' ',\n",
       " 's',\n",
       " 'e',\n",
       " 'n',\n",
       " 'a',\n",
       " 'n',\n",
       " 'g',\n",
       " ' ',\n",
       " 'b',\n",
       " 'e',\n",
       " 'l',\n",
       " 'a',\n",
       " 'j',\n",
       " 'a',\n",
       " 'r',\n",
       " ' ',\n",
       " 'p',\n",
       " 'y',\n",
       " 't',\n",
       " 'h',\n",
       " 'o',\n",
       " 'n']"
      ]
     },
     "execution_count": 46,
     "metadata": {},
     "output_type": "execute_result"
    }
   ],
   "source": [
    "list('saya senang belajar python')"
   ]
  },
  {
   "cell_type": "markdown",
   "id": "47040437",
   "metadata": {},
   "source": [
    "---"
   ]
  },
  {
   "cell_type": "code",
   "execution_count": 47,
   "id": "0ab115b4",
   "metadata": {},
   "outputs": [],
   "source": [
    "ganjil = [1,3,5,7,9]\n",
    "genap = [2,4,6,8,10]"
   ]
  },
  {
   "cell_type": "code",
   "execution_count": 48,
   "id": "b98305b1",
   "metadata": {},
   "outputs": [
    {
     "data": {
      "text/plain": [
       "[1, 3, 5, 7, 9, 2, 4, 6, 8, 10]"
      ]
     },
     "execution_count": 48,
     "metadata": {},
     "output_type": "execute_result"
    }
   ],
   "source": [
    "angka = ganjil + genap\n",
    "angka"
   ]
  },
  {
   "cell_type": "code",
   "execution_count": 50,
   "id": "c23d18e5",
   "metadata": {},
   "outputs": [],
   "source": [
    "bilangan = [ganjil, genap]"
   ]
  },
  {
   "cell_type": "code",
   "execution_count": 51,
   "id": "cb243fb0",
   "metadata": {},
   "outputs": [
    {
     "name": "stdout",
     "output_type": "stream",
     "text": [
      "[[1, 3, 5, 7, 9], [2, 4, 6, 8, 10]]\n"
     ]
    }
   ],
   "source": [
    "print(bilangan)"
   ]
  },
  {
   "cell_type": "code",
   "execution_count": 53,
   "id": "d71c3b78",
   "metadata": {},
   "outputs": [
    {
     "data": {
      "text/plain": [
       "[[1, 3, 5, 7, 9], [2, 4, 6, 8, 10]]"
      ]
     },
     "execution_count": 53,
     "metadata": {},
     "output_type": "execute_result"
    }
   ],
   "source": [
    "bilangan"
   ]
  },
  {
   "cell_type": "code",
   "execution_count": 55,
   "id": "4568c70b",
   "metadata": {},
   "outputs": [
    {
     "name": "stdout",
     "output_type": "stream",
     "text": [
      "[1, 3, 5, 7, 9]\n",
      "[2, 4, 6, 8, 10]\n"
     ]
    }
   ],
   "source": [
    "#ini mengambil isi dari item, bukan indeks lagi\n",
    "for i in bilangan :\n",
    "    print(i)"
   ]
  },
  {
   "cell_type": "code",
   "execution_count": 59,
   "id": "542c1f4d",
   "metadata": {},
   "outputs": [
    {
     "name": "stdout",
     "output_type": "stream",
     "text": [
      "0\n",
      "1\n"
     ]
    }
   ],
   "source": [
    "#ini mengambil isi jumlah iterasi dari bilangan\n",
    "for i in range(len(bilangan)) :\n",
    "    print(i)"
   ]
  },
  {
   "cell_type": "code",
   "execution_count": 60,
   "id": "76cd7ad8",
   "metadata": {},
   "outputs": [
    {
     "name": "stdout",
     "output_type": "stream",
     "text": [
      "[1, 3, 5, 7, 9]\n",
      "1\n",
      "3\n",
      "5\n",
      "7\n",
      "9\n",
      "[2, 4, 6, 8, 10]\n",
      "2\n",
      "4\n",
      "6\n",
      "8\n",
      "10\n"
     ]
    }
   ],
   "source": [
    "for item in bilangan:\n",
    "    print(item)\n",
    "    for item_ in item:\n",
    "        print(item_)"
   ]
  },
  {
   "cell_type": "code",
   "execution_count": null,
   "id": "d60ad346",
   "metadata": {},
   "outputs": [],
   "source": []
  }
 ],
 "metadata": {
  "kernelspec": {
   "display_name": "Python 3 (ipykernel)",
   "language": "python",
   "name": "python3"
  },
  "language_info": {
   "codemirror_mode": {
    "name": "ipython",
    "version": 3
   },
   "file_extension": ".py",
   "mimetype": "text/x-python",
   "name": "python",
   "nbconvert_exporter": "python",
   "pygments_lexer": "ipython3",
   "version": "3.9.12"
  }
 },
 "nbformat": 4,
 "nbformat_minor": 5
}
